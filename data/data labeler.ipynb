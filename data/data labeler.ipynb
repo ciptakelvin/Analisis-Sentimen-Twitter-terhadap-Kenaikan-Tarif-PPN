{
 "cells": [
  {
   "cell_type": "code",
   "execution_count": 1,
   "id": "50fe5377",
   "metadata": {
    "scrolled": true
   },
   "outputs": [],
   "source": [
    "import pandas as pd\n",
    "import matplotlib.pyplot as plt\n",
    "from datetime import datetime\n",
    "import seaborn as sb\n",
    "import random\n",
    "from IPython.display import clear_output\n",
    "import os\n",
    "\n",
    "\n",
    "def clear_labeled():\n",
    "    if os.path.exists(\"labeled.csv\"):\n",
    "        os.remove(\"labeled.csv\")\n",
    "def labeler(data):\n",
    "    \n",
    "    #Labeler\n",
    "    labeled_data=data.copy()\n",
    "    if os.path.exists(\"labeled.csv\"):\n",
    "        saved_data=pd.read_csv(\"labeled.csv\")\n",
    "        labeled_data[\"Label\"]=saved_data[\"Label\"]\n",
    "    else:\n",
    "        labeled_data[\"Label\"]=None\n",
    "    while True:\n",
    "        clear_output()\n",
    "        location=random.randint(0,len(labeled_data)-1)\n",
    "        print(str(labeled_data.iloc[location,4]))\n",
    "        print(\"Input Sentiment 0:neutral 1:negative 2:positive 3:exit and save\")\n",
    "        new_sentiment=input()\n",
    "        if new_sentiment==\"3\":\n",
    "            break;\n",
    "        elif new_sentiment==\"0\" or new_sentiment==\"1\" or new_sentiment==\"2\":\n",
    "            labeled_data.iloc[location,27]=new_sentiment\n",
    "\n",
    "    labeled_data.to_csv('labeled.csv',index=False)\n",
    "    return pd.read_csv(\"labeled.csv\")"
   ]
  },
  {
   "cell_type": "code",
   "execution_count": 8,
   "id": "ac8146ec",
   "metadata": {},
   "outputs": [],
   "source": [
    "#Clear Labeled Data\n",
    "# clear_labeled()"
   ]
  },
  {
   "cell_type": "code",
   "execution_count": 10,
   "id": "4edbf94e",
   "metadata": {},
   "outputs": [
    {
     "name": "stdout",
     "output_type": "stream",
     "text": [
      "@dindaamaliaw Hai, Kak.\n",
      "Untuk PPN 11% mulai berlaku masa pajak April ya, Kak. Untuk PPh Final UMKM akan diberlakukan batasan tidak kena pajak senilai 500jt. Untuk WP UMKM yg akan menggunakan tarif pasal 17 tetap sama, untuk angsuran PPh Pasal 25 nya akan dianggap seperti WP baru.\n",
      "(1/2)\n",
      "Input Sentiment 0:neutral 1:negative 2:positive 3:exit and save\n",
      "3\n"
     ]
    },
    {
     "data": {
      "text/html": [
       "<div>\n",
       "<style scoped>\n",
       "    .dataframe tbody tr th:only-of-type {\n",
       "        vertical-align: middle;\n",
       "    }\n",
       "\n",
       "    .dataframe tbody tr th {\n",
       "        vertical-align: top;\n",
       "    }\n",
       "\n",
       "    .dataframe thead th {\n",
       "        text-align: right;\n",
       "    }\n",
       "</style>\n",
       "<table border=\"1\" class=\"dataframe\">\n",
       "  <thead>\n",
       "    <tr style=\"text-align: right;\">\n",
       "      <th></th>\n",
       "      <th>Id</th>\n",
       "      <th>Search Keyword</th>\n",
       "      <th>URL</th>\n",
       "      <th>Datetime</th>\n",
       "      <th>Tweet</th>\n",
       "      <th>Username</th>\n",
       "      <th>View Count</th>\n",
       "      <th>Reply Count</th>\n",
       "      <th>Retweet Count</th>\n",
       "      <th>Like Count</th>\n",
       "      <th>...</th>\n",
       "      <th>Mentioned Users Count</th>\n",
       "      <th>Mentioned Users</th>\n",
       "      <th>User Verified</th>\n",
       "      <th>User Followers Count</th>\n",
       "      <th>User Statuses Count</th>\n",
       "      <th>Year</th>\n",
       "      <th>Month</th>\n",
       "      <th>Day</th>\n",
       "      <th>Kota</th>\n",
       "      <th>Label</th>\n",
       "    </tr>\n",
       "  </thead>\n",
       "  <tbody>\n",
       "  </tbody>\n",
       "</table>\n",
       "<p>0 rows × 28 columns</p>\n",
       "</div>"
      ],
      "text/plain": [
       "Empty DataFrame\n",
       "Columns: [Id, Search Keyword, URL, Datetime, Tweet, Username, View Count, Reply Count, Retweet Count, Like Count, Quote Count, Language, Source, Coordinates (Latitude), Coordinates (Longitude), Place, Hashtags, Reply to User, Mentioned Users Count, Mentioned Users, User Verified, User Followers Count, User Statuses Count, Year, Month, Day, Kota, Label]\n",
       "Index: []\n",
       "\n",
       "[0 rows x 28 columns]"
      ]
     },
     "execution_count": 10,
     "metadata": {},
     "output_type": "execute_result"
    }
   ],
   "source": [
    "#Data Labeler\n",
    "data=pd.read_csv('clean.csv')\n",
    "labeled=labeler(data)\n",
    "labeled[labeled[\"Label\"].notnull()]"
   ]
  }
 ],
 "metadata": {
  "kernelspec": {
   "display_name": "Python 3 (ipykernel)",
   "language": "python",
   "name": "python3"
  },
  "language_info": {
   "codemirror_mode": {
    "name": "ipython",
    "version": 3
   },
   "file_extension": ".py",
   "mimetype": "text/x-python",
   "name": "python",
   "nbconvert_exporter": "python",
   "pygments_lexer": "ipython3",
   "version": "3.11.1"
  }
 },
 "nbformat": 4,
 "nbformat_minor": 5
}
