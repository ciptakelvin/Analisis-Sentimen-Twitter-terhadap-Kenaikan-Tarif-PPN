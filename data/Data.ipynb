{
 "cells": [
  {
   "cell_type": "code",
   "execution_count": 9,
   "id": "50fe5377",
   "metadata": {
    "scrolled": true
   },
   "outputs": [],
   "source": [
    "import pandas as pd\n",
    "import matplotlib.pyplot as plt\n",
    "from datetime import datetime\n",
    "import seaborn as sb\n",
    "import random\n",
    "from IPython.display import clear_output\n",
    "\n",
    "def clean_data():\n",
    "    #Data Cleaner\n",
    "    data=pd.read_csv('2023-02-28 19.36.57.730834 PPN Naik.csv')\n",
    "    data=data.drop_duplicates(subset=[\"Tweet\"])\n",
    "\n",
    "    data=data.astype({\n",
    "        'Id':'int64',\n",
    "        'Datetime':'datetime64',\n",
    "        'View Count':'int32',\n",
    "        'Reply Count':'int32',\n",
    "        'Retweet Count':'int32',\n",
    "        'Like Count':'int32',\n",
    "        'Quote Count':'int32',\n",
    "        'Mentioned Users Count':'int32',\n",
    "        'User Verified':'bool',\n",
    "        'User Followers Count':'int32',\n",
    "        'User Statuses Count':'int32',\n",
    "        'User Verified':'bool'\n",
    "    })\n",
    "\n",
    "    data[\"Year\"]=data[\"Datetime\"].dt.year\n",
    "    data[\"Month\"]=data[\"Datetime\"].dt.month\n",
    "    data[\"Day\"]=data[\"Datetime\"].dt.day\n",
    "\n",
    "    data[\"Kota\"]=[str(i).split(\",\")[0] for i in data[\"Place\"]]\n",
    "    data.fillna(0)\n",
    "\n",
    "    data=data[(data[\"Datetime\"]<datetime(2022,12,31)) & (data[\"Datetime\"]>datetime(2020,5,1))]\n",
    "    data=data.drop(columns=[\"Sentiment Label\"])\n",
    "    data.to_csv('clean.csv',index=False)\n",
    "\n",
    "def labeler(data):\n",
    "    \n",
    "    #Labeler\n",
    "    labeled_data=data.copy()\n",
    "    labeled_data[\"Label\"]=0\n",
    "    while True:\n",
    "        location=random.randint(0,len(labeled_data)-1)\n",
    "        print(str(labeled_data.iloc[location,4]))\n",
    "        print(\"Input Sentiment 0:neutral 1:negative 2:positive 3:exit\")\n",
    "        new_sentiment=input()\n",
    "        if new_sentiment==\"3\":\n",
    "            break;\n",
    "        labeled_data.iloc[location,5]=new_sentiment\n",
    "        clear_output()\n",
    "\n",
    "    labeled_data[labeled_data[\"Label\"].notnull()].to_csv('labeled.csv',index=False)\n",
    "    labeled_data[labeled_data[\"Label\"].notnull()]"
   ]
  },
  {
   "cell_type": "code",
   "execution_count": null,
   "id": "c3dbe26e",
   "metadata": {},
   "outputs": [
    {
     "name": "stdout",
     "output_type": "stream",
     "text": [
      "PPN di Indonesia masih di bawah rata2 dunia sebesar 15%. Menurut Menkeu, kenaikan PPN 1% menjadi 11% tidaklah berlebihan. https://t.co/JvBCFMcW1b\n",
      "Input Sentiment 0:neutral 1:negative 2:positive 3:exit\n"
     ]
    }
   ],
   "source": [
    "clean_data()\n",
    "data=pd.read_csv(\"clean.csv\")\n",
    "data\n",
    "labeler(data)"
   ]
  }
 ],
 "metadata": {
  "kernelspec": {
   "display_name": "Python 3 (ipykernel)",
   "language": "python",
   "name": "python3"
  },
  "language_info": {
   "codemirror_mode": {
    "name": "ipython",
    "version": 3
   },
   "file_extension": ".py",
   "mimetype": "text/x-python",
   "name": "python",
   "nbconvert_exporter": "python",
   "pygments_lexer": "ipython3",
   "version": "3.11.1"
  }
 },
 "nbformat": 4,
 "nbformat_minor": 5
}
