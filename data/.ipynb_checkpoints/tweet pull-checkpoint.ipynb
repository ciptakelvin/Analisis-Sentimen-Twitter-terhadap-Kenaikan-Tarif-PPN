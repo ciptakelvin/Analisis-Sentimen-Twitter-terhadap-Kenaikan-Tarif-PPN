{
 "cells": [
  {
   "cell_type": "code",
   "execution_count": 235,
   "id": "c9eefb7b",
   "metadata": {},
   "outputs": [
    {
     "ename": "SyntaxError",
     "evalue": "invalid syntax. Perhaps you forgot a comma? (809767979.py, line 56)",
     "output_type": "error",
     "traceback": [
      "\u001b[1;36m  Cell \u001b[1;32mIn[235], line 56\u001b[1;36m\u001b[0m\n\u001b[1;33m    pull(\"#PPN\",10)\u001b[0m\n\u001b[1;37m    ^\u001b[0m\n\u001b[1;31mSyntaxError\u001b[0m\u001b[1;31m:\u001b[0m invalid syntax. Perhaps you forgot a comma?\n"
     ]
    }
   ],
   "source": [
    "import snscrape.modules.twitter as sns\n",
    "import tweepy\n",
    "import pandas as pd\n",
    "import os\n",
    "from datetime import datetime\n",
    "\n",
    "\n",
    "def initialize():\n",
    "    #API Initialization\n",
    "    global api_key,api_secret,bearer_token,access_token,token_secret\n",
    "    api_key=os.environ['T_API_KEY']\n",
    "    api_secret=os.environ['T_API_SECRET']\n",
    "    bearer_token=os.environ['T_BEARER_TOKEN']\n",
    "    access_token=os.environ['T_ACCESS_TOKEN']\n",
    "    token_secret=os.environ['T_TOKEN_SECRET']\n",
    "\n",
    "def auth_handler():\n",
    "    #API Auth\n",
    "    global auth,api\n",
    "    auth = tweepy.OAuthHandler(api_key, api_secret)\n",
    "    auth.set_access_token(access_token, token_secret)\n",
    "    api = tweepy.API(auth, wait_on_rate_limit=True)\n",
    "\n",
    "def pull(keyword:str,limit:int)->pd.DataFrame:\n",
    "    #Tweet Pull\n",
    "    print(\"Pull Keyword : \"+keyword+\" is processing..\")\n",
    "    tweet=[]\n",
    "    for i, t in enumerate(sns.TwitterSearchScraper(keyword).get_items()):\n",
    "        if i>=limit:\n",
    "            break;\n",
    "        tw=api.get_status(t.id)._json\n",
    "        tweet.append([t.id,keyword,t.url,t.date,t.rawContent,t.user.username,t.replyCount,t.retweetCount,t.likeCount,t.quoteCount,t.lang,t.sourceLabel,t.coordinates,t.place,t.hashtags,str(t.inReplyToUser).split(\"/\")[len(str(t.inReplyToUser).split(\"/\"))-1],len(tw['entities']['user_mentions']),list((i['screen_name']) for i in tw['entities']['user_mentions']),tw['geo'],tw['coordinates'],tw['place'],tw['user']['verified'],tw['user']['followers_count'],tw['user']['statuses_count'],tw['user']['location'],tw['user']['created_at']])\n",
    "    return pd.DataFrame(tweet,columns=['Id','Search Keyword','URL','Datetime','Tweet','User','Reply Count','Retweet Count','Like Count','Quote Count','Language','Source','Coordinates','Place','Hashtags','Reply to (User)','Tweepy Mentioned Users Count','Tweepy Mentioned Username','Tweepy Geo','Tweepy Coordinates','Tweepy Place','Tweepy User Verified','Tweepy User Followers','Tweepy User Statuses Count','Tweepy User Location','Tweepy User Created At'])\n",
    "\n",
    "def multi_pull(data:list[pd.DataFrame])->pd.DataFrame:\n",
    "    d=data[0]\n",
    "    for k,i in enumerate(data):\n",
    "        if k==0:\n",
    "            continue\n",
    "        d=pd.concat([d,i],ignore_index=True).copy()\n",
    "    print(\"File Saved\")\n",
    "    return d\n",
    "\n",
    "#Main\n",
    "initialize()\n",
    "auth_handler()\n",
    "\n",
    "file_name=\"Kenaikan Tarif PPN\"\n",
    "\n",
    "data=multi_pull([\n",
    "    pull(\"PPN\",10),\n",
    "    pull(\"PPN Naik\",10),\n",
    "    pull(\"Tarif PPN Baru\",10),\n",
    "    pull(\"PPN 11%\",10),\n",
    "    pull(\"Kenaikan PPN\",10),\n",
    "    pull(\"#PPN\",10),\n",
    "    pull(\"#KenaikanPPN\",10),\n",
    "    pull(\"#PPN11%\",10),\n",
    "    pull(\"#PPNNaik\",10),\n",
    "    pull(\"#TarifPPN\",10)\n",
    "])\n",
    "data.to_csv(str(datetime.now()).replace(\":\",\".\")+\" \"+file_name+\".csv\",index=False)\n",
    "data"
   ]
  }
 ],
 "metadata": {
  "kernelspec": {
   "display_name": "Python 3 (ipykernel)",
   "language": "python",
   "name": "python3"
  },
  "language_info": {
   "codemirror_mode": {
    "name": "ipython",
    "version": 3
   },
   "file_extension": ".py",
   "mimetype": "text/x-python",
   "name": "python",
   "nbconvert_exporter": "python",
   "pygments_lexer": "ipython3",
   "version": "3.11.1"
  }
 },
 "nbformat": 4,
 "nbformat_minor": 5
}
