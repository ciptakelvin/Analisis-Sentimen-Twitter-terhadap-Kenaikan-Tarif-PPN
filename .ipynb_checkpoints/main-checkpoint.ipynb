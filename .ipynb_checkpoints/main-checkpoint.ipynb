{
 "cells": [
  {
   "cell_type": "code",
   "execution_count": 33,
   "id": "75e42ff4",
   "metadata": {},
   "outputs": [
    {
     "data": {
      "text/plain": [
       "'jadi lah pastinya telkomsel mah dipak nelpon kali juga tagihannya naik rbu sebelum ppn entah gimana ngitungnya ini linknya'"
      ]
     },
     "execution_count": 33,
     "metadata": {},
     "output_type": "execute_result"
    }
   ],
   "source": [
    "from idylisis import Analyzer\n",
    "\n",
    "Analyzer(\"@detikcom www.google.com  Jadi #mahal lah pastinya. sarang.com/jeje Telkomsel mah dipakÃ© nelpon 2 kali juga tagihannya naik 100 rÃ©bu (sebelum ppn) entah gimana ngitungnya ðŸ˜‹ #nelponlebihmurahpakaiindosat,kueh_bandros,https://twitter.com/kueh_bandros/status/1585131350646206464 ini linknya\").pre()\n",
    "\n",
    "\n",
    "\n"
   ]
  }
 ],
 "metadata": {
  "kernelspec": {
   "display_name": "Python 3 (ipykernel)",
   "language": "python",
   "name": "python3"
  },
  "language_info": {
   "codemirror_mode": {
    "name": "ipython",
    "version": 3
   },
   "file_extension": ".py",
   "mimetype": "text/x-python",
   "name": "python",
   "nbconvert_exporter": "python",
   "pygments_lexer": "ipython3",
   "version": "3.11.1"
  }
 },
 "nbformat": 4,
 "nbformat_minor": 5
}
